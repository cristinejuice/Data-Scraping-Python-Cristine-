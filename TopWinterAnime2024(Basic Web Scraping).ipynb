{
  "nbformat": 4,
  "nbformat_minor": 0,
  "metadata": {
    "colab": {
      "provenance": [],
      "authorship_tag": "ABX9TyMN7xNDvtDCKVDPo199wnya",
      "include_colab_link": true
    },
    "kernelspec": {
      "name": "python3",
      "display_name": "Python 3"
    },
    "language_info": {
      "name": "python"
    }
  },
  "cells": [
    {
      "cell_type": "markdown",
      "metadata": {
        "id": "view-in-github",
        "colab_type": "text"
      },
      "source": [
        "<a href=\"https://colab.research.google.com/github/cristinejuice/Data-Scraping-Python-Cristine-/blob/main/TopWinterAnime2024(Basic%20Web%20Scraping).ipynb\" target=\"_parent\"><img src=\"https://colab.research.google.com/assets/colab-badge.svg\" alt=\"Open In Colab\"/></a>"
      ]
    },
    {
      "cell_type": "markdown",
      "source": [
        "# **Best Winter Anime 2024 ⚡**"
      ],
      "metadata": {
        "id": "FkVSn2Y4WbWv"
      }
    },
    {
      "cell_type": "code",
      "source": [
        "import requests\n",
        "from bs4 import BeautifulSoup\n",
        "\n",
        "import time  # Import time library"
      ],
      "metadata": {
        "id": "-KqgC8qiWngX"
      },
      "execution_count": 11,
      "outputs": []
    },
    {
      "cell_type": "markdown",
      "source": [
        "**⭐ Target URL (Replace with the URL of AniTrends) ⭐**"
      ],
      "metadata": {
        "id": "CHByh8YkWxeg"
      }
    },
    {
      "cell_type": "code",
      "source": [
        "url = \"https://www.anitrendz.com/anime?season=winter&year=2024\""
      ],
      "metadata": {
        "id": "e-BXQ6KaXBo5"
      },
      "execution_count": 12,
      "outputs": []
    },
    {
      "cell_type": "markdown",
      "source": [
        "**Send an HTTP GET request and store the response ⛹**"
      ],
      "metadata": {
        "id": "FKCaHxuUXLR6"
      }
    },
    {
      "cell_type": "code",
      "source": [
        "response = requests.get(url)"
      ],
      "metadata": {
        "id": "-U3j9EouXRfC"
      },
      "execution_count": 13,
      "outputs": []
    },
    {
      "cell_type": "markdown",
      "source": [
        "**Extract Anime Titles and Check for successful response ✅**"
      ],
      "metadata": {
        "id": "5CsY20VMYtSJ"
      }
    },
    {
      "cell_type": "code",
      "source": [
        "if response.ok:\n",
        "  soup = BeautifulSoup(response.content, \"html.parser\")\n",
        "\n",
        "  # Find anime titles\n",
        "  anime_titles = soup.find_all(\"h6\", class_=\"AnimeHome_name__ANMYz\")\n",
        "\n",
        "  # Extract titles\n",
        "  for title in anime_titles:\n",
        "    anime_title = title.text.strip()\n",
        "    print(anime_title)\n",
        "\n",
        "else:\n",
        "  print(\"Error: Failed to retrieve the page\")\n"
      ],
      "metadata": {
        "colab": {
          "base_uri": "https://localhost:8080/"
        },
        "id": "Er4pI6C4e3UT",
        "outputId": "ee9453e9-d970-4ce6-c4e4-f92b94e25f43"
      },
      "execution_count": 22,
      "outputs": [
        {
          "output_type": "stream",
          "name": "stdout",
          "text": [
            "Undead Unluck\n",
            "Fluffy Paradise\n",
            "Bucchigiri?!\n",
            "Blue Exorcist -Shimane Illuminati Saga-\n",
            "Gushing over Magical Girls\n",
            "Bottom-Tier Character Tomozaki 2nd Stage\n",
            "Banished From the Hero's Party, I Decided to Live a Quiet Life in the Countryside 2nd\n",
            "The Witch and the Beast\n",
            "Tales of Wedding Rings\n",
            "Delusional Monthly Magazine\n",
            "Sengoku Youko\n",
            "High Card S2\n",
            "Isekai Onsen Paradise\n",
            "The Dangers in My Heart S2\n",
            "The Apothecary Diaries\n",
            "Solo Leveling\n",
            "Meiji Gekken: 1874\n",
            "Shaman King Flowers\n",
            "Synduality Noir S1 Part Ii\n",
            "Villainess Level 99: I May Be the Hidden Boss but I'm Not the Demon Lord\n",
            "The Fire Hunter S2\n",
            "'Tis Time for \"Torture,\" Princess\n",
            "The Strongest Tank's Labyrinth Raids -a Tank with a Rare 9999 Resistance Skill Got Kicked From the Hero's Party-\n",
            "The Demon Prince of Momochi House\n",
            "Ishura\n",
            "Pon No Michi\n",
            "My Instant Death Ability Is so Overpowered, No One in This Other World Stands a Chance Against Me!\n",
            "7th Time Loop: the Villainess Enjoys a Carefree Life Married to Her Worst Enemy!\n",
            "Frieren: Beyond Journey's End\n",
            "A Sign of Affection\n",
            "Hokkaido Gals Are Super Adorable!\n",
            "Classroom of the Elite S3\n",
            "The Wrong Way to Use Healing Magic\n",
            "Cardfight!! Vanguard Divinez\n",
            "Firefighter Daigo: Rescuer in Orange\n",
            "Doctor Elise: the Royal Lady with the Lamp\n",
            "Delicious in Dungeon\n",
            "Chained Soldier\n",
            "Tsukimichi -Moonlit Fantasy- S2\n",
            "Shangri-La Frontier\n",
            "Metallic Rouge\n",
            "Ragna Crimson\n",
            "The Unwanted Undead Adventurer\n",
            "The Foolish Angel Dances with the Devil\n",
            "Urusei Yatsura (2022) S2\n",
            "Sasaki and Peeps\n",
            "The Weakest Tamer Began a Journey to Pick up Trash\n",
            "Mr. Villain's Day Off\n",
            "Cherry Magic! Thirty Years of Virginity Can Make You a Wizard?!\n",
            "Brave Bang Bravern!\n",
            "The Seven Deadly Sins: Four Knights of the Apocalypse\n",
            "Kingdom S5\n",
            "The Legend of Super Normal Pref. Chiba\n"
          ]
        }
      ]
    },
    {
      "cell_type": "markdown",
      "source": [
        "**Put the anime titles in a data frame alphabetically 😼**"
      ],
      "metadata": {
        "id": "8nXMxRvp-l45"
      }
    },
    {
      "cell_type": "code",
      "source": [
        "# Create DataFrame with the titles\n",
        "df = pd.DataFrame(anime_titles, columns=[\"Title\"])\n",
        "print(df)\n"
      ],
      "metadata": {
        "colab": {
          "base_uri": "https://localhost:8080/"
        },
        "id": "6ujNgybc-lak",
        "outputId": "fe1c56a1-8e8e-48a6-f7e2-59c98d641273"
      },
      "execution_count": 23,
      "outputs": [
        {
          "output_type": "stream",
          "name": "stdout",
          "text": [
            "                                                Title\n",
            "0                                       Undead Unluck\n",
            "1                                     Fluffy Paradise\n",
            "2                                        Bucchigiri?!\n",
            "3             Blue Exorcist -Shimane Illuminati Saga-\n",
            "4                          Gushing over Magical Girls\n",
            "5            Bottom-Tier Character Tomozaki 2nd Stage\n",
            "6   Banished From the Hero's Party, I Decided to L...\n",
            "7                             The Witch and the Beast\n",
            "8                              Tales of Wedding Rings\n",
            "9                         Delusional Monthly Magazine\n",
            "10                                      Sengoku Youko\n",
            "11                                       High Card S2\n",
            "12                              Isekai Onsen Paradise\n",
            "13                         The Dangers in My Heart S2\n",
            "14                             The Apothecary Diaries\n",
            "15                                      Solo Leveling\n",
            "16                                 Meiji Gekken: 1874\n",
            "17                                Shaman King Flowers\n",
            "18                         Synduality Noir S1 Part Ii\n",
            "19  Villainess Level 99: I May Be the Hidden Boss ...\n",
            "20                                 The Fire Hunter S2\n",
            "21                  'Tis Time for \"Torture,\" Princess\n",
            "22  The Strongest Tank's Labyrinth Raids -a Tank w...\n",
            "23                  The Demon Prince of Momochi House\n",
            "24                                             Ishura\n",
            "25                                       Pon No Michi\n",
            "26  My Instant Death Ability Is so Overpowered, No...\n",
            "27  7th Time Loop: the Villainess Enjoys a Carefre...\n",
            "28                      Frieren: Beyond Journey's End\n",
            "29                                A Sign of Affection\n",
            "30                  Hokkaido Gals Are Super Adorable!\n",
            "31                          Classroom of the Elite S3\n",
            "32                 The Wrong Way to Use Healing Magic\n",
            "33                       Cardfight!! Vanguard Divinez\n",
            "34               Firefighter Daigo: Rescuer in Orange\n",
            "35         Doctor Elise: the Royal Lady with the Lamp\n",
            "36                               Delicious in Dungeon\n",
            "37                                    Chained Soldier\n",
            "38                    Tsukimichi -Moonlit Fantasy- S2\n",
            "39                                Shangri-La Frontier\n",
            "40                                     Metallic Rouge\n",
            "41                                      Ragna Crimson\n",
            "42                     The Unwanted Undead Adventurer\n",
            "43            The Foolish Angel Dances with the Devil\n",
            "44                           Urusei Yatsura (2022) S2\n",
            "45                                   Sasaki and Peeps\n",
            "46  The Weakest Tamer Began a Journey to Pick up T...\n",
            "47                              Mr. Villain's Day Off\n",
            "48  Cherry Magic! Thirty Years of Virginity Can Ma...\n",
            "49                                Brave Bang Bravern!\n",
            "50  The Seven Deadly Sins: Four Knights of the Apo...\n",
            "51                                         Kingdom S5\n",
            "52             The Legend of Super Normal Pref. Chiba\n"
          ]
        }
      ]
    },
    {
      "cell_type": "code",
      "source": [
        "import matplotlib.pyplot as plt"
      ],
      "metadata": {
        "id": "CeeY2f-bD7fZ"
      },
      "execution_count": 26,
      "outputs": []
    }
  ]
}